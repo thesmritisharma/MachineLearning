{
 "cells": [
  {
   "cell_type": "code",
   "execution_count": null,
   "metadata": {},
   "outputs": [],
   "source": [
    "#Question 1\n",
    "\n",
    "def prob():\n",
    "    a = int(input('P(A) ='))\n",
    "    b = int(input('P(B) ='))\n",
    "    c = int(input('P(A/B) ='))\n",
    "    d = (c * b) / a\n",
    "    print('P(B/A) =', d)\n",
    "prob()"
   ]
  },
  {
   "cell_type": "code",
   "execution_count": null,
   "metadata": {},
   "outputs": [],
   "source": [
    "#Question 2\n",
    "\n",
    "e1 = int(input('P(E1) ='))\n",
    "e2 = int(input('P(E2) ='))\n",
    "ae1 = int(input('P(A/E1) ='))\n",
    "ae2 = int(input('P(A/E2) ='))\n",
    "e2a = (e2 * ae2) / ((e1 * ae1) + (e2 * ae2))\n",
    "print(e2a)\n"
   ]
  },
  {
   "cell_type": "code",
   "execution_count": null,
   "metadata": {},
   "outputs": [],
   "source": [
    "a = 1/6\n",
    "b = 5/6\n",
    "ea = int(input('Four actually occured ='))\n",
    "eb = int(input('Four didn\\'t occur ='))\n",
    "ae = (a * ea) / ((a * ea) + (b * eb))\n",
    "print(ae)"
   ]
  },
  {
   "cell_type": "code",
   "execution_count": null,
   "metadata": {},
   "outputs": [],
   "source": []
  }
 ],
 "metadata": {
  "kernelspec": {
   "display_name": "Python 3",
   "language": "python",
   "name": "python3"
  },
  "language_info": {
   "codemirror_mode": {
    "name": "ipython",
    "version": 3
   },
   "file_extension": ".py",
   "mimetype": "text/x-python",
   "name": "python",
   "nbconvert_exporter": "python",
   "pygments_lexer": "ipython3",
   "version": "3.6.4"
  }
 },
 "nbformat": 4,
 "nbformat_minor": 2
}
